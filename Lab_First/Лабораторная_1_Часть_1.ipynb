{
  "nbformat": 4,
  "nbformat_minor": 0,
  "metadata": {
    "colab": {
      "provenance": []
    },
    "kernelspec": {
      "name": "python3",
      "display_name": "Python 3"
    },
    "language_info": {
      "name": "python"
    }
  },
  "cells": [
    {
      "cell_type": "code",
      "execution_count": 1,
      "metadata": {
        "colab": {
          "base_uri": "https://localhost:8080/"
        },
        "id": "7Zjz4xZUlB7C",
        "outputId": "3167bf54-4fd9-40ae-d898-551274368b8e"
      },
      "outputs": [
        {
          "output_type": "stream",
          "name": "stdout",
          "text": [
            "Requirement already satisfied: gym in /usr/local/lib/python3.10/dist-packages (0.25.2)\n",
            "Requirement already satisfied: numpy>=1.18.0 in /usr/local/lib/python3.10/dist-packages (from gym) (1.26.4)\n",
            "Requirement already satisfied: cloudpickle>=1.2.0 in /usr/local/lib/python3.10/dist-packages (from gym) (3.1.0)\n",
            "Requirement already satisfied: gym_notices>=0.0.4 in /usr/local/lib/python3.10/dist-packages (from gym) (0.0.8)\n"
          ]
        }
      ],
      "source": [
        "!pip install gym"
      ]
    },
    {
      "cell_type": "code",
      "source": [
        "import gym\n",
        "from IPython.display import clear_output\n",
        "import time"
      ],
      "metadata": {
        "id": "IMLUWpsypcLE"
      },
      "execution_count": 2,
      "outputs": []
    },
    {
      "cell_type": "code",
      "source": [
        "# Шаг 1: Создание и настройка среды\n",
        "environment_name = \"Taxi-v3\"\n",
        "render_option = \"ansi\"\n",
        "env = gym.make(environment_name, render_mode=render_option)"
      ],
      "metadata": {
        "colab": {
          "base_uri": "https://localhost:8080/"
        },
        "id": "MS8ZdpZ4p4P6",
        "outputId": "ce3379e9-1b9e-4cfd-bca9-ad9438bc7ba5"
      },
      "execution_count": 3,
      "outputs": [
        {
          "output_type": "stream",
          "name": "stderr",
          "text": [
            "/usr/local/lib/python3.10/dist-packages/gym/core.py:317: DeprecationWarning: \u001b[33mWARN: Initializing wrapper in old step API which returns one bool instead of two. It is recommended to set `new_step_api=True` to use new step API. This will be the default behaviour in future.\u001b[0m\n",
            "  deprecation(\n",
            "/usr/local/lib/python3.10/dist-packages/gym/wrappers/step_api_compatibility.py:39: DeprecationWarning: \u001b[33mWARN: Initializing environment in old step API which returns one bool instead of two. It is recommended to set `new_step_api=True` to use new step API. This will be the default behaviour in future.\u001b[0m\n",
            "  deprecation(\n"
          ]
        }
      ]
    },
    {
      "cell_type": "code",
      "source": [
        "# Шаг 2: Проверка версии Gym и начальная инициализация\n",
        "version_numbers = tuple(map(int, gym.__version__.split('.')))\n",
        "\n",
        "if version_numbers >= (0, 26):\n",
        "    initial_state, metadata = env.reset()\n",
        "else:\n",
        "    initial_state = env.reset()\n"
      ],
      "metadata": {
        "id": "Gykm9u6bqHw8"
      },
      "execution_count": 4,
      "outputs": []
    },
    {
      "cell_type": "code",
      "source": [
        "# Шаг 3: Выполнение эпизода с 10 случайными действиями\n",
        "print(\"=== НАЧАЛО ЭПИЗОДА ===\")\n",
        "for step_index in range(10):\n",
        "    random_action = env.action_space.sample()\n",
        "\n",
        "    if version_numbers >= (0, 26):\n",
        "        next_state, reward, terminated, truncated, metadata = env.step(random_action)\n",
        "        done = terminated or truncated\n",
        "    else:\n",
        "        next_state, reward, done, metadata = env.step(random_action)\n",
        "\n",
        "\n",
        "    print(f\"=== Шаг: {step_index + 1} ===\")\n",
        "    print(f\"Текущее состояние: {initial_state}\")\n",
        "    print(f\"Действие (код): {random_action}\")\n",
        "    print(f\"Награда: {reward}\")\n",
        "    print(\"Состояние среды:\")\n",
        "    print(env.render())\n",
        "    print(\"=======================\")\n",
        "\n",
        "    initial_state = next_state\n",
        "\n",
        "    if done:\n",
        "        print(\"Эпизод завершен!\")\n",
        "        break\n",
        "\n",
        "    time.sleep(1)\n",
        "\n"
      ],
      "metadata": {
        "colab": {
          "base_uri": "https://localhost:8080/"
        },
        "id": "8bM3N5iIqL-N",
        "outputId": "578cabde-a3ca-40c3-df96-12a3eb94021e"
      },
      "execution_count": 5,
      "outputs": [
        {
          "output_type": "stream",
          "name": "stdout",
          "text": [
            "=== НАЧАЛО ЭПИЗОДА ===\n",
            "=== Шаг: 1 ===\n",
            "Текущее состояние: 71\n",
            "Действие (код): 3\n",
            "Награда: -1\n",
            "Состояние среды:\n",
            "['+---------+\\n|R: | :\\x1b[43m \\x1b[0m:G|\\n| : | : : |\\n| : : : : |\\n| | : | : |\\n|\\x1b[34;1mY\\x1b[0m| : |\\x1b[35mB\\x1b[0m: |\\n+---------+\\n\\n', '+---------+\\n|R: |\\x1b[43m \\x1b[0m: :G|\\n| : | : : |\\n| : : : : |\\n| | : | : |\\n|\\x1b[34;1mY\\x1b[0m| : |\\x1b[35mB\\x1b[0m: |\\n+---------+\\n  (West)\\n']\n",
            "=======================\n"
          ]
        },
        {
          "output_type": "stream",
          "name": "stderr",
          "text": [
            "/usr/local/lib/python3.10/dist-packages/gym/utils/passive_env_checker.py:241: DeprecationWarning: `np.bool8` is a deprecated alias for `np.bool_`.  (Deprecated NumPy 1.24)\n",
            "  if not isinstance(terminated, (bool, np.bool8)):\n"
          ]
        },
        {
          "output_type": "stream",
          "name": "stdout",
          "text": [
            "=== Шаг: 2 ===\n",
            "Текущее состояние: 51\n",
            "Действие (код): 2\n",
            "Награда: -1\n",
            "Состояние среды:\n",
            "['+---------+\\n|R: | :\\x1b[43m \\x1b[0m:G|\\n| : | : : |\\n| : : : : |\\n| | : | : |\\n|\\x1b[34;1mY\\x1b[0m| : |\\x1b[35mB\\x1b[0m: |\\n+---------+\\n  (East)\\n']\n",
            "=======================\n",
            "=== Шаг: 3 ===\n",
            "Текущее состояние: 71\n",
            "Действие (код): 0\n",
            "Награда: -1\n",
            "Состояние среды:\n",
            "['+---------+\\n|R: | : :G|\\n| : | :\\x1b[43m \\x1b[0m: |\\n| : : : : |\\n| | : | : |\\n|\\x1b[34;1mY\\x1b[0m| : |\\x1b[35mB\\x1b[0m: |\\n+---------+\\n  (South)\\n']\n",
            "=======================\n",
            "=== Шаг: 4 ===\n",
            "Текущее состояние: 171\n",
            "Действие (код): 0\n",
            "Награда: -1\n",
            "Состояние среды:\n",
            "['+---------+\\n|R: | : :G|\\n| : | : : |\\n| : : :\\x1b[43m \\x1b[0m: |\\n| | : | : |\\n|\\x1b[34;1mY\\x1b[0m| : |\\x1b[35mB\\x1b[0m: |\\n+---------+\\n  (South)\\n']\n",
            "=======================\n",
            "=== Шаг: 5 ===\n",
            "Текущее состояние: 271\n",
            "Действие (код): 3\n",
            "Награда: -1\n",
            "Состояние среды:\n",
            "['+---------+\\n|R: | : :G|\\n| : | : : |\\n| : :\\x1b[43m \\x1b[0m: : |\\n| | : | : |\\n|\\x1b[34;1mY\\x1b[0m| : |\\x1b[35mB\\x1b[0m: |\\n+---------+\\n  (West)\\n']\n",
            "=======================\n",
            "=== Шаг: 6 ===\n",
            "Текущее состояние: 251\n",
            "Действие (код): 1\n",
            "Награда: -1\n",
            "Состояние среды:\n",
            "['+---------+\\n|R: | : :G|\\n| : |\\x1b[43m \\x1b[0m: : |\\n| : : : : |\\n| | : | : |\\n|\\x1b[34;1mY\\x1b[0m| : |\\x1b[35mB\\x1b[0m: |\\n+---------+\\n  (North)\\n']\n",
            "=======================\n",
            "=== Шаг: 7 ===\n",
            "Текущее состояние: 151\n",
            "Действие (код): 0\n",
            "Награда: -1\n",
            "Состояние среды:\n",
            "['+---------+\\n|R: | : :G|\\n| : | : : |\\n| : :\\x1b[43m \\x1b[0m: : |\\n| | : | : |\\n|\\x1b[34;1mY\\x1b[0m| : |\\x1b[35mB\\x1b[0m: |\\n+---------+\\n  (South)\\n']\n",
            "=======================\n",
            "=== Шаг: 8 ===\n",
            "Текущее состояние: 251\n",
            "Действие (код): 0\n",
            "Награда: -1\n",
            "Состояние среды:\n",
            "['+---------+\\n|R: | : :G|\\n| : | : : |\\n| : : : : |\\n| | :\\x1b[43m \\x1b[0m| : |\\n|\\x1b[34;1mY\\x1b[0m| : |\\x1b[35mB\\x1b[0m: |\\n+---------+\\n  (South)\\n']\n",
            "=======================\n",
            "=== Шаг: 9 ===\n",
            "Текущее состояние: 351\n",
            "Действие (код): 2\n",
            "Награда: -1\n",
            "Состояние среды:\n",
            "['+---------+\\n|R: | : :G|\\n| : | : : |\\n| : : : : |\\n| | :\\x1b[43m \\x1b[0m| : |\\n|\\x1b[34;1mY\\x1b[0m| : |\\x1b[35mB\\x1b[0m: |\\n+---------+\\n  (East)\\n']\n",
            "=======================\n",
            "=== Шаг: 10 ===\n",
            "Текущее состояние: 351\n",
            "Действие (код): 0\n",
            "Награда: -1\n",
            "Состояние среды:\n",
            "['+---------+\\n|R: | : :G|\\n| : | : : |\\n| : : : : |\\n| | : | : |\\n|\\x1b[34;1mY\\x1b[0m| :\\x1b[43m \\x1b[0m|\\x1b[35mB\\x1b[0m: |\\n+---------+\\n  (South)\\n']\n",
            "=======================\n"
          ]
        }
      ]
    },
    {
      "cell_type": "code",
      "source": [
        "# Шаг 4: Закрытие среды\n",
        "env.close()\n"
      ],
      "metadata": {
        "id": "8aX3el5zqOMy"
      },
      "execution_count": 6,
      "outputs": []
    }
  ]
}